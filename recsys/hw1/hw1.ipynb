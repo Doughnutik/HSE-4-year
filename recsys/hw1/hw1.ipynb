{
 "cells": [
  {
   "cell_type": "markdown",
   "id": "360abdb8",
   "metadata": {},
   "source": [
    "**Задача 1**\n",
    "\n",
    "1) Распишем формулу $toprec(u, n) = argmax_i^n \\; r_{ui} = argmax_i^n \\; (g_u + f_i + \\mu)$\n",
    "\t\n",
    "\tЗаметим, что $g_u$ и $\\mu$ не зависит от $i$ и одинаковы для всех айтемов, а $f_i$ - общая предпочтительность айтема, не зависящая от конкретного пользователя $\\Rightarrow$ выбор построение $r_{ui}$ не зависит от параметров / признаков пользователя\n",
    "2) Так как мы решаем задачу только для конкатенации, то $x_{ui} = (x_u, 0)^T + (0, x_i)^T$. Значит $toprec(u, n) = argmax_i^n \\; \\theta^T \\cdot (x_u, 0)^T + \\theta^T \\cdot (0, x_i)^T + \\epsilon$. Как видно, $\\theta^T \\cdot (x_u, 0)^T + \\epsilon$ не зависят от $i \\Rightarrow$ снова влияют только параметры / признаки айтема."
   ]
  }
 ],
 "metadata": {
  "kernelspec": {
   "display_name": ".venv",
   "language": "python",
   "name": "python3"
  },
  "language_info": {
   "name": "python",
   "version": "3.13.2"
  }
 },
 "nbformat": 4,
 "nbformat_minor": 5
}
